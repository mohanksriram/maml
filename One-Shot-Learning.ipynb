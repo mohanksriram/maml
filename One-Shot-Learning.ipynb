{
 "cells": [
  {
   "cell_type": "markdown",
   "metadata": {},
   "source": [
    "### What is the problem?\n",
    "- Two aspects of human conceptual knowledge have eluded exisiting machine learning systems:\n",
    "- People can learn a new concept from one or a handful of examples.\n",
    "- People learn richer representations than machines do, even for simple concepts, using them for wide range of functions\n",
    "  including creating new examples, parsing objects into parts and relations, and creating new abstract categories of   \n",
    "  objects based on existing categories."
   ]
  },
  {
   "cell_type": "markdown",
   "metadata": {},
   "source": [
    "### Why should we solve this problem?\n",
    "- Machines will work using a more generalizable model with easily adaptible parameters that can parse knowledge from past tasks to accomplish a wide variety of new tasks using very few examples or training data.\n",
    "\n",
    "tl;dr: Less data, Less training, Less compute, More money"
   ]
  },
  {
   "cell_type": "markdown",
   "metadata": {},
   "source": [
    "### What are the existing state of the art techniques to solve the problem?\n",
    "- Prototypical-Nets\n",
    "- MAML\n",
    "- Memory Mod\n",
    "- Neural Statistician\n",
    "- Matching Nets\n",
    "- Reptile + Transduction\n",
    "\n",
    "1: [Few shot learning: Papers with code](https://www.paperswithcode.com/sota/few-shot-image-classification-on-omniglot-1)"
   ]
  },
  {
   "cell_type": "markdown",
   "metadata": {},
   "source": [
    "### Our Approach\n",
    "- Model-Agnostic Meta-Learning (MAML)\n",
    "- If possible, we will cover Probabilistic Model-Agnostic Meta-Learning "
   ]
  },
  {
   "cell_type": "markdown",
   "metadata": {},
   "source": [
    "##### Key concept:\n",
    "- Produces a weight initialization that results in easily adaptable model parameters through gradient descent."
   ]
  },
  {
   "cell_type": "markdown",
   "metadata": {},
   "source": []
  },
  {
   "cell_type": "code",
   "execution_count": null,
   "metadata": {},
   "outputs": [],
   "source": []
  },
  {
   "cell_type": "code",
   "execution_count": null,
   "metadata": {},
   "outputs": [],
   "source": []
  },
  {
   "cell_type": "code",
   "execution_count": null,
   "metadata": {},
   "outputs": [],
   "source": []
  },
  {
   "cell_type": "code",
   "execution_count": null,
   "metadata": {},
   "outputs": [],
   "source": []
  },
  {
   "cell_type": "markdown",
   "metadata": {},
   "source": [
    "#### Dependencies\n",
    "- Anaconda: v4.5.12\n",
    "- Pytorch: v1.1"
   ]
  },
  {
   "cell_type": "markdown",
   "metadata": {},
   "source": [
    "#### Commands used:\n",
    "```\n",
    "conda install pytorch-cpu torchvision-cpu -c pytorch\n",
    "```"
   ]
  },
  {
   "cell_type": "code",
   "execution_count": null,
   "metadata": {},
   "outputs": [],
   "source": []
  }
 ],
 "metadata": {
  "kernelspec": {
   "display_name": "Python 3",
   "language": "python",
   "name": "python3"
  },
  "language_info": {
   "codemirror_mode": {
    "name": "ipython",
    "version": 3
   },
   "file_extension": ".py",
   "mimetype": "text/x-python",
   "name": "python",
   "nbconvert_exporter": "python",
   "pygments_lexer": "ipython3",
   "version": "3.6.7"
  }
 },
 "nbformat": 4,
 "nbformat_minor": 2
}
